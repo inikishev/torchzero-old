{
 "cells": [
  {
   "cell_type": "code",
   "execution_count": 2,
   "metadata": {},
   "outputs": [],
   "source": [
    "from torchzero.output_size import *"
   ]
  },
  {
   "cell_type": "code",
   "execution_count": 102,
   "metadata": {},
   "outputs": [
    {
     "name": "stdout",
     "output_type": "stream",
     "text": [
      "[64, 64]\n"
     ]
    },
    {
     "data": {
      "text/plain": [
       "[64, 64]"
      ]
     },
     "execution_count": 102,
     "metadata": {},
     "output_type": "execute_result"
    }
   ],
   "source": [
    "convtranspose_outsize((32,32), kernel_size = 5, stride = 2, padding=2, output_padding=1)"
   ]
  },
  {
   "cell_type": "code",
   "execution_count": 103,
   "metadata": {},
   "outputs": [
    {
     "name": "stdout",
     "output_type": "stream",
     "text": [
      "[33, 33]\n",
      "[161, 161]\n"
     ]
    },
    {
     "data": {
      "text/plain": [
       "[161, 161]"
      ]
     },
     "execution_count": 103,
     "metadata": {},
     "output_type": "execute_result"
    }
   ],
   "source": [
    "from collections.abc import Sequence\n",
    "convtranspose_outsize((32,32), 2)\n",
    "\n",
    "def _get_samesize_transpose_padding(kernel_size:int | Sequence[int], stride: int | Sequence[int]) -> dict[str, int | tuple[int]]:\n",
    "    \"\"\"Return padding and output padding that retains input size given a kernel size.\"\"\"\n",
    "    if isinstance(kernel_size, int):\n",
    "        if isinstance(stride, int):\n",
    "            padding = int((kernel_size - stride) // 2)\n",
    "            output_padding = 1 - int((kernel_size - stride) % 2)\n",
    "\n",
    "            return dict(padding = padding, output_padding = output_padding) # type:ignore\n",
    "\n",
    "        else:\n",
    "            values = [_get_samesize_transpose_padding(kernel_size, i) for i in stride]\n",
    "            return dict(padding = tuple([i['padding'] for i in values]), output_padding = tuple([i['output_padding'] for i in values])) # type:ignore\n",
    "\n",
    "\n",
    "\n",
    "    else:\n",
    "        values = [_get_samesize_transpose_padding(i, stride) for i in kernel_size]\n",
    "        return dict(padding = tuple([i['padding'] for i in values]), output_padding = tuple([i['output_padding'] for i in values])) # type:ignore\n",
    "\n",
    "ksize = 5\n",
    "stride = 5\n",
    "convtranspose_outsize((32,32), ksize, stride=stride, **_get_samesize_transpose_padding(ksize, stride))"
   ]
  },
  {
   "cell_type": "code",
   "execution_count": null,
   "metadata": {},
   "outputs": [],
   "source": []
  }
 ],
 "metadata": {
  "kernelspec": {
   "display_name": "pytorch311",
   "language": "python",
   "name": "python3"
  },
  "language_info": {
   "codemirror_mode": {
    "name": "ipython",
    "version": 3
   },
   "file_extension": ".py",
   "mimetype": "text/x-python",
   "name": "python",
   "nbconvert_exporter": "python",
   "pygments_lexer": "ipython3",
   "version": "3.11.9"
  }
 },
 "nbformat": 4,
 "nbformat_minor": 2
}
