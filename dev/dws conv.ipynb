{
 "cells": [
  {
   "cell_type": "code",
   "execution_count": 1,
   "metadata": {},
   "outputs": [],
   "source": [
    "from glio.importsall import *\n",
    "from torchzero.nn.layers.separable_conv import DWSepConv, SSepConv, FullySeparableConv\n",
    "import torch"
   ]
  },
  {
   "cell_type": "code",
   "execution_count": 2,
   "metadata": {},
   "outputs": [
    {
     "name": "stdout",
     "output_type": "stream",
     "text": [
      "count_parameters(dwsepconv) = 135424\n",
      "count_parameters(conv) = 1179904\n"
     ]
    },
    {
     "data": {
      "text/plain": [
       "FullySeparableConv(\n",
       "  (0): Conv2d(512, 512, kernel_size=(3, 1), stride=(2, 1), padding=(1, 0), groups=512)\n",
       "  (1): Conv2d(512, 512, kernel_size=(1, 3), stride=(1, 2), padding=(0, 1), groups=512)\n",
       "  (2): Conv2d(512, 256, kernel_size=(1, 1), stride=(1, 1))\n",
       ")"
      ]
     },
     "execution_count": 2,
     "metadata": {},
     "output_type": "execute_result"
    }
   ],
   "source": [
    "dwsepconv = FullySeparableConv(512, 256, kernel_size = 3, stride = 2, padding = 1)\n",
    "conv = nn.Conv2d(512, 256, 3, 2, 1)\n",
    "print(f'{count_parameters(dwsepconv) = }')\n",
    "print(f'{count_parameters(conv) = }')\n",
    "dwsepconv"
   ]
  },
  {
   "cell_type": "code",
   "execution_count": 3,
   "metadata": {},
   "outputs": [
    {
     "data": {
      "text/plain": [
       "torch.Size([3, 256, 48, 48])"
      ]
     },
     "execution_count": 3,
     "metadata": {},
     "output_type": "execute_result"
    }
   ],
   "source": [
    "dwsepconv(torch.randn(3, 512, 96, 96)).shape"
   ]
  }
 ],
 "metadata": {
  "kernelspec": {
   "display_name": "pytorch311",
   "language": "python",
   "name": "python3"
  },
  "language_info": {
   "codemirror_mode": {
    "name": "ipython",
    "version": 3
   },
   "file_extension": ".py",
   "mimetype": "text/x-python",
   "name": "python",
   "nbconvert_exporter": "python",
   "pygments_lexer": "ipython3",
   "version": "3.11.9"
  }
 },
 "nbformat": 4,
 "nbformat_minor": 2
}
